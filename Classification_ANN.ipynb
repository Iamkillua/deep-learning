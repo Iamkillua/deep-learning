
{
  "nbformat": 4,
  "nbformat_minor": 0,
  "metadata": {
    "colab": {
      "name": "Classification_ANN.ipynb",
      "provenance": [],
      "collapsed_sections": []
    },
    "kernelspec": {
      "name": "python3",
      "display_name": "Python 3"
    },
    "accelerator": "TPU"
  },
  "cells": [
    {
      "cell_type": "code",
      "metadata": {
        "id": "eaq0Yckj6bFx",
        "outputId": "215f4410-b42e-4783-f26f-84ef72aa8716",
        "colab": {
          "resources": {
            "http://localhost:8080/nbextensions/google.colab/files.js": {
              "data": "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",
              "ok": true,
              "headers": [
                [
                  "content-type",
                  "application/javascript"
                ]
              ],
              "status": 200,
              "status_text": ""
            }
          },
          "base_uri": "https://localhost:8080/",
          "height": 90
        }
      },
      "source": [
        "from google.colab import files\n",
        "\n",
        "uploaded = files.upload()\n",
        "\n",
        "for fn in uploaded.keys():\n",
        "  print('User uploaded file \"{name}\" with length {length} bytes'.format(\n",
        "      name=fn, length=len(uploaded[fn])))"
      ],
      "execution_count": 56,
      "outputs": [
        {
          "output_type": "display_data",
          "data": {
            "text/plain": [
              "<IPython.core.display.HTML object>"
            ],
            "text/html": [
              "\n",
              "     <input type=\"file\" id=\"files-325162b8-16d2-48cd-a591-20d65751aec1\" name=\"files[]\" multiple disabled\n",
              "        style=\"border:none\" />\n",
              "     <output id=\"result-325162b8-16d2-48cd-a591-20d65751aec1\">\n",
              "      Upload widget is only available when the cell has been executed in the\n",
              "      current browser session. Please rerun this cell to enable.\n",
              "      </output>\n",
              "      <script src=\"/nbextensions/google.colab/files.js\"></script> "
            ]
          },
          "metadata": {}
        },
        {
          "output_type": "stream",
          "name": "stdout",
          "text": [
            "Saving data.csv to data (2).csv\n",
            "User uploaded file \"data.csv\" with length 125204 bytes\n"
          ]
        }
      ]
    },
    {
      "cell_type": "code",
      "metadata": {
        "id": "i7sv6j9w6tzy",
        "outputId": "2606ccbb-26eb-4c25-f569-178d39b5a335",
        "colab": {
          "base_uri": "https://localhost:8080/",
          "height": 317
        }
      },
      "source": [
        "\n",
        "import pandas as pd\n",
        "import io\n",
        "data=pd.read_csv(io.StringIO(uploaded['data.csv'].decode('utf-8')))\n",
        "data.head()"
      ],
      "execution_count": 57,
      "outputs": [
        {
          "output_type": "execute_result",
          "data": {
            "text/plain": [
              "         id diagnosis  radius_mean  texture_mean  perimeter_mean  area_mean  \\\n",
              "0    842302         M        17.99         10.38          122.80     1001.0   \n",
              "1    842517         M        20.57         17.77          132.90     1326.0   \n",
              "2  84300903         M        19.69         21.25          130.00     1203.0   \n",
              "3  84348301         M        11.42         20.38           77.58      386.1   \n",
              "4  84358402         M        20.29         14.34          135.10     1297.0   \n",
              "\n",
              "   smoothness_mean  compactness_mean  concavity_mean  concave points_mean  \\\n",
              "0          0.11840           0.27760          0.3001              0.14710   \n",
              "1          0.08474           0.07864          0.0869              0.07017   \n",
              "2          0.10960           0.15990          0.1974              0.12790   \n",
              "3          0.14250           0.28390          0.2414              0.10520   \n",
              "4          0.10030           0.13280          0.1980              0.10430   \n",
              "\n",
              "   ...  texture_worst  perimeter_worst  area_worst  smoothness_worst  \\\n",
              "0  ...          17.33           184.60      2019.0            0.1622   \n",
              "1  ...          23.41           158.80      1956.0            0.1238   \n",
              "2  ...          25.53           152.50      1709.0            0.1444   \n",
              "3  ...          26.50            98.87       567.7            0.2098   \n",
              "4  ...          16.67           152.20      1575.0            0.1374   \n",
              "\n",
              "   compactness_worst  concavity_worst  concave points_worst  symmetry_worst  \\\n",
              "0             0.6656           0.7119                0.2654          0.4601   \n",
              "1             0.1866           0.2416                0.1860          0.2750   \n",
              "2             0.4245           0.4504                0.2430          0.3613   \n",
              "3             0.8663           0.6869                0.2575          0.6638   \n",
              "4             0.2050           0.4000                0.1625          0.2364   \n",
              "\n",
              "   fractal_dimension_worst  Unnamed: 32  \n",
              "0                  0.11890          NaN  \n",
              "1                  0.08902          NaN  \n",
              "2                  0.08758          NaN  \n",
              "3                  0.17300          NaN  \n",
              "4                  0.07678          NaN  \n",
              "\n",
              "[5 rows x 33 columns]"
            ],
            "text/html": [
              "\n",
              "  <div id=\"df-e447c218-3c42-4a35-b307-890fb1ba0d19\">\n",
              "    <div class=\"colab-df-container\">\n",
              "      <div>\n",
              "<style scoped>\n",
              "    .dataframe tbody tr th:only-of-type {\n",
              "        vertical-align: middle;\n",
              "    }\n",
              "\n",
              "    .dataframe tbody tr th {\n",
              "        vertical-align: top;\n",
              "    }\n",
              "\n",
              "    .dataframe thead th {\n",
              "        text-align: right;\n",
              "    }\n",
              "</style>\n",
              "<table border=\"1\" class=\"dataframe\">\n",
              "  <thead>\n",
              "    <tr style=\"text-align: right;\">\n",
              "      <th></th>\n",
              "      <th>id</th>\n",
              "      <th>diagnosis</th>\n",
              "      <th>radius_mean</th>\n",
              "      <th>texture_mean</th>\n",
              "      <th>perimeter_mean</th>\n",
              "      <th>area_mean</th>\n",
              "      <th>smoothness_mean</th>\n",
              "      <th>compactness_mean</th>\n",
              "      <th>concavity_mean</th>\n",
              "      <th>concave points_mean</th>\n",
              "      <th>...</th>\n",
              "      <th>texture_worst</th>\n",
              "      <th>perimeter_worst</th>\n",
              "      <th>area_worst</th>\n",
              "      <th>smoothness_worst</th>\n",
              "      <th>compactness_worst</th>\n",
              "      <th>concavity_worst</th>\n",
              "      <th>concave points_worst</th>\n",
              "      <th>symmetry_worst</th>\n",
              "      <th>fractal_dimension_worst</th>\n",
              "      <th>Unnamed: 32</th>\n",
              "    </tr>\n",
              "  </thead>\n",
              "  <tbody>\n",
              "    <tr>\n",
              "      <th>0</th>\n",
              "      <td>842302</td>\n",
              "      <td>M</td>\n",
              "      <td>17.99</td>\n",
              "      <td>10.38</td>\n",
              "      <td>122.80</td>\n",
              "      <td>1001.0</td>\n",
              "      <td>0.11840</td>\n",
              "      <td>0.27760</td>\n",
              "      <td>0.3001</td>\n",
              "      <td>0.14710</td>\n",
              "      <td>...</td>\n",
              "      <td>17.33</td>\n",
              "      <td>184.60</td>\n",
              "      <td>2019.0</td>\n",
              "      <td>0.1622</td>\n",
              "      <td>0.6656</td>\n",
              "      <td>0.7119</td>\n",
              "      <td>0.2654</td>\n",
              "      <td>0.4601</td>\n",
              "      <td>0.11890</td>\n",
              "      <td>NaN</td>\n",
              "    </tr>\n",
              "    <tr>\n",
              "      <th>1</th>\n",
              "      <td>842517</td>\n",
              "      <td>M</td>\n",
              "      <td>20.57</td>\n",
              "      <td>17.77</td>\n",
              "      <td>132.90</td>\n",
              "      <td>1326.0</td>\n",
              "      <td>0.08474</td>\n",
              "      <td>0.07864</td>\n",
              "      <td>0.0869</td>\n",
              "      <td>0.07017</td>\n",
              "      <td>...</td>\n",
              "      <td>23.41</td>\n",
              "      <td>158.80</td>\n",
              "      <td>1956.0</td>\n",
              "      <td>0.1238</td>\n",
              "      <td>0.1866</td>\n",
              "      <td>0.2416</td>\n",
              "      <td>0.1860</td>\n",
              "      <td>0.2750</td>\n",
              "      <td>0.08902</td>\n",
              "      <td>NaN</td>\n",
              "    </tr>\n",
              "    <tr>\n",
              "      <th>2</th>\n",
              "      <td>84300903</td>\n",
              "      <td>M</td>\n",
              "      <td>19.69</td>\n",
              "      <td>21.25</td>\n",
              "      <td>130.00</td>\n",
              "      <td>1203.0</td>\n",
              "      <td>0.10960</td>\n",
              "      <td>0.15990</td>\n",
              "      <td>0.1974</td>\n",
              "      <td>0.12790</td>\n",
              "      <td>...</td>\n",
              "      <td>25.53</td>\n",
              "      <td>152.50</td>\n",
              "      <td>1709.0</td>\n",
              "      <td>0.1444</td>\n",
              "      <td>0.4245</td>\n",
              "      <td>0.4504</td>\n",
              "      <td>0.2430</td>\n",
              "      <td>0.3613</td>\n",
              "      <td>0.08758</td>\n",
              "      <td>NaN</td>\n",
              "    </tr>\n",
              "    <tr>\n",
              "      <th>3</th>\n",
              "      <td>84348301</td>\n",
              "      <td>M</td>\n",
              "      <td>11.42</td>\n",
              "      <td>20.38</td>\n",
              "      <td>77.58</td>\n",
              "      <td>386.1</td>\n",
              "      <td>0.14250</td>\n",
              "      <td>0.28390</td>\n",
              "      <td>0.2414</td>\n",
              "      <td>0.10520</td>\n",
              "      <td>...</td>\n",
              "      <td>26.50</td>\n",
              "      <td>98.87</td>\n",
              "      <td>567.7</td>\n",
              "      <td>0.2098</td>\n",
              "      <td>0.8663</td>\n",
              "      <td>0.6869</td>\n",
              "      <td>0.2575</td>\n",
              "      <td>0.6638</td>\n",
              "      <td>0.17300</td>\n",
              "      <td>NaN</td>\n",
              "    </tr>\n",
              "    <tr>\n",
              "      <th>4</th>\n",
              "      <td>84358402</td>\n",
              "      <td>M</td>\n",
              "      <td>20.29</td>\n",
              "      <td>14.34</td>\n",
              "      <td>135.10</td>\n",
              "      <td>1297.0</td>\n",
              "      <td>0.10030</td>\n",
              "      <td>0.13280</td>\n",
              "      <td>0.1980</td>\n",
              "      <td>0.10430</td>\n",
              "      <td>...</td>\n",
              "      <td>16.67</td>\n",
              "      <td>152.20</td>\n",
              "      <td>1575.0</td>\n",
              "      <td>0.1374</td>\n",
              "      <td>0.2050</td>\n",
              "      <td>0.4000</td>\n",
              "      <td>0.1625</td>\n",
              "      <td>0.2364</td>\n",
              "      <td>0.07678</td>\n",
              "      <td>NaN</td>\n",
              "    </tr>\n",
              "  </tbody>\n",
              "</table>\n",
              "<p>5 rows × 33 columns</p>\n",
              "</div>\n",
              "      <button class=\"colab-df-convert\" onclick=\"convertToInteractive('df-e447c218-3c42-4a35-b307-890fb1ba0d19')\"\n",
              "              title=\"Convert this dataframe to an interactive table.\"\n",
              "              style=\"display:none;\">\n",
              "        \n",
              "  <svg xmlns=\"http://www.w3.org/2000/svg\" height=\"24px\"viewBox=\"0 0 24 24\"\n",
              "       width=\"24px\">\n",
              "    <path d=\"M0 0h24v24H0V0z\" fill=\"none\"/>\n",
              "    <path d=\"M18.56 5.44l.94 2.06.94-2.06 2.06-.94-2.06-.94-.94-2.06-.94 2.06-2.06.94zm-11 1L8.5 8.5l.94-2.06 2.06-.94-2.06-.94L8.5 2.5l-.94 2.06-2.06.94zm10 10l.94 2.06.94-2.06 2.06-.94-2.06-.94-.94-2.06-.94 2.06-2.06.94z\"/><path d=\"M17.41 7.96l-1.37-1.37c-.4-.4-.92-.59-1.43-.59-.52 0-1.04.2-1.43.59L10.3 9.45l-7.72 7.72c-.78.78-.78 2.05 0 2.83L4 21.41c.39.39.9.59 1.41.59.51 0 1.02-.2 1.41-.59l7.78-7.78 2.81-2.81c.8-.78.8-2.07 0-2.86zM5.41 20L4 18.59l7.72-7.72 1.47 1.35L5.41 20z\"/>\n",
              "  </svg>\n",
              "      </button>\n",
              "      \n",
              "  <style>\n",
              "    .colab-df-container {\n",
              "      display:flex;\n",
              "      flex-wrap:wrap;\n",
              "      gap: 12px;\n",
              "    }\n",
              "\n",
              "    .colab-df-convert {\n",
              "      background-color: #E8F0FE;\n",
              "      border: none;\n",
              "      border-radius: 50%;\n",
              "      cursor: pointer;\n",
              "      display: none;\n",
              "      fill: #1967D2;\n",
              "      height: 32px;\n",
              "      padding: 0 0 0 0;\n",
              "      width: 32px;\n",
              "    }\n",
              "\n",
              "    .colab-df-convert:hover {\n",
              "      background-color: #E2EBFA;\n",
              "      box-shadow: 0px 1px 2px rgba(60, 64, 67, 0.3), 0px 1px 3px 1px rgba(60, 64, 67, 0.15);\n",
              "      fill: #174EA6;\n",
              "    }\n",
              "\n",
              "    [theme=dark] .colab-df-convert {\n",
              "      background-color: #3B4455;\n",
              "      fill: #D2E3FC;\n",
              "    }\n",
              "\n",
              "    [theme=dark] .colab-df-convert:hover {\n",
              "      background-color: #434B5C;\n",
              "      box-shadow: 0px 1px 3px 1px rgba(0, 0, 0, 0.15);\n",
              "      filter: drop-shadow(0px 1px 2px rgba(0, 0, 0, 0.3));\n",
              "      fill: #FFFFFF;\n",
              "    }\n",
              "  </style>\n",
              "\n",
              "      <script>\n",
              "        const buttonEl =\n",
              "          document.querySelector('#df-e447c218-3c42-4a35-b307-890fb1ba0d19 button.colab-df-convert');\n",
              "        buttonEl.style.display =\n",
              "          google.colab.kernel.accessAllowed ? 'block' : 'none';\n",
              "\n",
              "        async function convertToInteractive(key) {\n",
              "          const element = document.querySelector('#df-e447c218-3c42-4a35-b307-890fb1ba0d19');\n",
              "          const dataTable =\n",
              "            await google.colab.kernel.invokeFunction('convertToInteractive',\n",
              "                                                     [key], {});\n",
              "          if (!dataTable) return;\n",
              "\n",
              "          const docLinkHtml = 'Like what you see? Visit the ' +\n",
              "            '<a target=\"_blank\" href=https://colab.research.google.com/notebooks/data_table.ipynb>data table notebook</a>'\n",
              "            + ' to learn more about interactive tables.';\n",
              "          element.innerHTML = '';\n",
              "          dataTable['output_type'] = 'display_data';\n",
              "          await google.colab.output.renderOutput(dataTable, element);\n",
              "          const docLink = document.createElement('div');\n",
              "          docLink.innerHTML = docLinkHtml;\n",
              "          element.appendChild(docLink);\n",
              "        }\n",
              "      </script>\n",
              "    </div>\n",
              "  </div>\n",
              "  "
            ]
          },
          "metadata": {},
          "execution_count": 57
        }
      ]
    },
    {
      "cell_type": "code",
      "metadata": {
        "id": "gccilFN06v5x",
        "outputId": "201ea452-de82-41bc-c02c-0960dafc5f46",
        "colab": {
          "base_uri": "https://localhost:8080/",
          "height": 368
        }
      },
      "source": [
        "import seaborn as sns\n",
        "ax = sns.countplot(data['diagnosis'], label= 'Count')\n",
        "B,M = data['diagnosis'].value_counts()\n",
        "print('Benign', B)\n",
        "print('Malignanat', M)\n"
      ],
      "execution_count": 58,
      "outputs": [
        {
          "output_type": "stream",
          "name": "stdout",
          "text": [
            "Benign 357\n",
            "Malignanat 212\n"
          ]
        },
        {
          "output_type": "stream",
          "name": "stderr",
          "text": [
            "/usr/local/lib/python3.7/dist-packages/seaborn/_decorators.py:43: FutureWarning: Pass the following variable as a keyword arg: x. From version 0.12, the only valid positional argument will be `data`, and passing other arguments without an explicit keyword will result in an error or misinterpretation.\n",
            "  FutureWarning\n"
          ]
        },
        {
          "output_type": "display_data",
          "data": {
            "text/plain": [
              "<Figure size 432x288 with 1 Axes>"
            ],
            "image/png": "[encoded data removed]"
          },
          "metadata": {
            "needs_background": "light"
          }
        }
      ]
    },
    {
      "cell_type": "code",
      "metadata": {
        "id": "XVCX3ELW6yJA"
      },
      "source": [
        "import pandas as pd\n",
        "import numpy as np\n",
        "import matplotlib.pyplot as plt\n",
        "\n",
        "# Importing data\n",
        "del data['Unnamed: 32']"
      ],
      "execution_count": 59,
      "outputs": []
    },
    {
      "cell_type": "code",
      "metadata": {
        "id": "cB5fKA3u6ydw"
      },
      "source": [
        "X = data.iloc[:, 2:].values\n",
        "y = data.iloc[:, 1].values\n",
        "\n",
        "# Encoding categorical data\n",
        "from sklearn.preprocessing import LabelEncoder\n",
        "labelencoder_X_1 = LabelEncoder()\n",
        "y = labelencoder_X_1.fit_transform(y)\n",
        "\n",
        "# Splitting the dataset into the Training set and Test set\n",
        "from sklearn.model_selection import train_test_split\n",
        "X_train, X_test, y_train, y_test = train_test_split(X, y, test_size = 0.1, random_state = 0)\n",
        "\n",
        "#Feature Scaling\n",
        "from sklearn.preprocessing import StandardScaler\n",
        "sc = StandardScaler()\n",
        "X_train = sc.fit_transform(X_train)\n",
        "X_test = sc.transform(X_test)"
      ],
      "execution_count": 101,
      "outputs": []
    },
    {
      "cell_type": "code",
      "metadata": {
        "id": "ZpAVng9I6yjY",
        "outputId": "b71495c9-0bec-4351-faa9-d8523fed3888",
        "colab": {
          "base_uri": "https://localhost:8080/"
        }
      },
      "source": [
        "X_train"
      ],
      "execution_count": 102,
      "outputs": [
        {
          "output_type": "execute_result",
          "data": {
            "text/plain": [
              "array([[-0.52787029,  2.49821982, -0.59939466, ..., -1.74713139,\n",
              "        -0.79044533, -0.91054389],\n",
              "       [-0.55333608,  0.29431013, -0.60759343, ..., -0.62275667,\n",
              "        -0.33646358, -0.83551633],\n",
              "       [ 2.15452653,  0.40392257,  2.26525805, ...,  1.03846122,\n",
              "        -0.11504791,  0.26488788],\n",
              "       ...,\n",
              "       [-1.3297598 , -0.21876938, -1.32088704, ..., -0.98271999,\n",
              "        -0.718764  , -0.13637062],\n",
              "       [-1.24940108, -0.24209117, -1.2835826 , ..., -1.74713139,\n",
              "        -1.58690456, -1.01280367],\n",
              "       [-0.74291476,  1.08958336, -0.71827692, ..., -0.2865488 ,\n",
              "        -1.26354211,  0.19486216]])"
            ]
          },
          "metadata": {},
          "execution_count": 102
        }
      ]
    },
    {
      "cell_type": "code",
      "metadata": {
        "id": "BItiguG56ypQ",
        "outputId": "8263ac41-96a2-4748-aa57-d82b1e0263ce",
        "colab": {
          "base_uri": "https://localhost:8080/"
        }
      },
      "source": [
        "X_test"
      ],
      "execution_count": 103,
      "outputs": [
        {
          "output_type": "execute_result",
          "data": {
            "text/plain": [
              "array([[-0.20813312,  0.29431013, -0.13944326, ...,  1.35620942,\n",
              "         1.08282676,  1.50534354],\n",
              "       [-0.26189423,  1.39743106, -0.3255555 , ..., -0.83852283,\n",
              "        -0.73469319, -0.8855347 ],\n",
              "       [-0.0327021 , -0.83912914, -0.10049907, ..., -0.50397936,\n",
              "        -1.22531207, -0.92888396],\n",
              "       ...,\n",
              "       [-0.47410917,  0.14738282, -0.47600306, ..., -0.59340278,\n",
              "        -0.35079984, -0.34311323],\n",
              "       [-0.75423289, -0.7528385 , -0.77976775, ..., -0.75636222,\n",
              "        -0.08637538,  0.21209071],\n",
              "       [-0.79667588,  1.82421992, -0.83142005, ..., -1.43195543,\n",
              "        -0.08956122, -0.71936255]])"
            ]
          },
          "metadata": {},
          "execution_count": 103
        }
      ]
    },
    {
      "cell_type": "code",
      "metadata": {
        "id": "l8hiTfZu7ELL",
        "outputId": "f38b6a43-30c9-4de1-b189-579ab9c397e2",
        "colab": {
          "base_uri": "https://localhost:8080/"
        }
      },
      "source": [
        "!pip install keras"
      ],
      "execution_count": 104,
      "outputs": [
        {
          "output_type": "stream",
          "name": "stdout",
          "text": [
            "Looking in indexes: https://pypi.org/simple, https://us-python.pkg.dev/colab-wheels/public/simple/\n",
            "Requirement already satisfied: keras in /usr/local/lib/python3.7/dist-packages (2.8.0)\n"
          ]
        }
      ]
    },
    {
      "cell_type": "code",
      "metadata": {
        "id": "rk7mSVwL-TlI"
      },
      "source": [
        "import keras\n",
        "from keras.models import Sequential\n",
        "from keras.layers import Dense"
      ],
      "execution_count": 105,
      "outputs": []
    },
    {
      "cell_type": "code",
      "metadata": {
        "id": "UT8yTxdE-VBN"
      },
      "source": [
        "#from keras.layers import Dropout\n",
        "#adding the input and first hidden layer\n",
        "classifier = Sequential()\n",
        "classifier.add(Dense(16, activation='relu', kernel_initializer='uniform',input_dim=30))\n",
        "#classifier.add(Dense(16, init='uniform', activation='relu', input_dim=30))\n",
        "#classifier.add(Dropout(p=1.0))\n",
        "\n",
        "#adding the second hidden layer\n",
        "classifier.add(Dense(16, activation='relu', kernel_initializer='uniform'))\n",
        "#classifier.add(Dense(output_dim=16, init='uniform', activation='relu'))\n",
        "#classifier.add(Dropout(p=1.0))\n",
        "\n",
        "#adding the output layer\n",
        "classifier.add(Dense(1, activation='sigmoid', kernel_initializer='uniform'))\n",
        "#classifier.add(Dense(output_dim=1, init='uniform', activation='sigmoid'))\n"
      ],
      "execution_count": 106,
      "outputs": []
    },
    {
      "cell_type": "code",
      "metadata": {
        "id": "JSYz-acvpIf3"
      },
      "source": [
        "classifier.compile(optimizer=\"Adam\", loss='binary_crossentropy', metrics=['accuracy'])"
      ],
      "execution_count": 107,
      "outputs": []
    },
    {
      "cell_type": "code",
      "metadata": {
        "id": "dP06VafNpJQ2",
        "outputId": "461e8f22-c9c1-470e-c789-dffef3b5a7f9",
        "colab": {
          "base_uri": "https://localhost:8080/"
        }
      },
      "source": [
        "classifier.fit(X_train, y_train, batch_size=100, epochs=150)\n",
        "\n"
      ],
      "execution_count": 108,
      "outputs": [
        {
          "output_type": "stream",
          "name": "stdout",
          "text": [
            "Epoch 1/150\n",
            "6/6 [==============================] - 1s 7ms/step - loss: 0.6929 - accuracy: 0.5293\n",
            "Epoch 2/150\n",
            "6/6 [==============================] - 0s 7ms/step - loss: 0.6911 - accuracy: 0.6602\n",
            "Epoch 3/150\n",
            "6/6 [==============================] - 0s 12ms/step - loss: 0.6884 - accuracy: 0.7129\n",
            "Epoch 4/150\n",
            "6/6 [==============================] - 0s 5ms/step - loss: 0.6838 - accuracy: 0.8340\n",
            "Epoch 5/150\n",
            "6/6 [==============================] - 0s 4ms/step - loss: 0.6756 - accuracy: 0.9043\n",
            "Epoch 6/150\n",
            "6/6 [==============================] - 0s 6ms/step - loss: 0.6632 - accuracy: 0.9336\n",
            "Epoch 7/150\n",
            "6/6 [==============================] - 0s 6ms/step - loss: 0.6449 - accuracy: 0.9316\n",
            "Epoch 8/150\n",
            "6/6 [==============================] - 0s 9ms/step - loss: 0.6188 - accuracy: 0.9414\n",
            "Epoch 9/150\n",
            "6/6 [==============================] - 0s 5ms/step - loss: 0.5845 - accuracy: 0.9395\n",
            "Epoch 10/150\n",
            "6/6 [==============================] - 0s 5ms/step - loss: 0.5426 - accuracy: 0.9395\n",
            "Epoch 11/150\n",
            "6/6 [==============================] - 0s 5ms/step - loss: 0.4952 - accuracy: 0.9414\n",
            "Epoch 12/150\n",
            "6/6 [==============================] - 0s 5ms/step - loss: 0.4447 - accuracy: 0.9434\n",
            "Epoch 13/150\n",
            "6/6 [==============================] - 0s 5ms/step - loss: 0.3936 - accuracy: 0.9453\n",
            "Epoch 14/150\n",
            "6/6 [==============================] - 0s 7ms/step - loss: 0.3444 - accuracy: 0.9473\n",
            "Epoch 15/150\n",
            "6/6 [==============================] - 0s 5ms/step - loss: 0.2998 - accuracy: 0.9492\n",
            "Epoch 16/150\n",
            "6/6 [==============================] - 0s 5ms/step - loss: 0.2619 - accuracy: 0.9551\n",
            "Epoch 17/150\n",
            "6/6 [==============================] - 0s 6ms/step - loss: 0.2294 - accuracy: 0.9570\n",
            "Epoch 18/150\n",
            "6/6 [==============================] - 0s 7ms/step - loss: 0.2033 - accuracy: 0.9648\n",
            "Epoch 19/150\n",
            "6/6 [==============================] - 0s 6ms/step - loss: 0.1818 - accuracy: 0.9668\n",
            "Epoch 20/150\n",
            "6/6 [==============================] - 0s 5ms/step - loss: 0.1646 - accuracy: 0.9668\n",
            "Epoch 21/150\n",
            "6/6 [==============================] - 0s 5ms/step - loss: 0.1505 - accuracy: 0.9688\n",
            "Epoch 22/150\n",
            "6/6 [==============================] - 0s 7ms/step - loss: 0.1396 - accuracy: 0.9688\n",
            "Epoch 23/150\n",
            "6/6 [==============================] - 0s 9ms/step - loss: 0.1298 - accuracy: 0.9707\n",
            "Epoch 24/150\n",
            "6/6 [==============================] - 0s 5ms/step - loss: 0.1218 - accuracy: 0.9746\n",
            "Epoch 25/150\n",
            "6/6 [==============================] - 0s 12ms/step - loss: 0.1156 - accuracy: 0.9746\n",
            "Epoch 26/150\n",
            "6/6 [==============================] - 0s 7ms/step - loss: 0.1103 - accuracy: 0.9746\n",
            "Epoch 27/150\n",
            "6/6 [==============================] - 0s 7ms/step - loss: 0.1058 - accuracy: 0.9766\n",
            "Epoch 28/150\n",
            "6/6 [==============================] - 0s 6ms/step - loss: 0.1018 - accuracy: 0.9766\n",
            "Epoch 29/150\n",
            "6/6 [==============================] - 0s 5ms/step - loss: 0.0985 - accuracy: 0.9785\n",
            "Epoch 30/150\n",
            "6/6 [==============================] - 0s 4ms/step - loss: 0.0952 - accuracy: 0.9785\n",
            "Epoch 31/150\n",
            "6/6 [==============================] - 0s 6ms/step - loss: 0.0922 - accuracy: 0.9785\n",
            "Epoch 32/150\n",
            "6/6 [==============================] - 0s 5ms/step - loss: 0.0894 - accuracy: 0.9805\n",
            "Epoch 33/150\n",
            "6/6 [==============================] - 0s 15ms/step - loss: 0.0869 - accuracy: 0.9805\n",
            "Epoch 34/150\n",
            "6/6 [==============================] - 0s 5ms/step - loss: 0.0850 - accuracy: 0.9805\n",
            "Epoch 35/150\n",
            "6/6 [==============================] - 0s 6ms/step - loss: 0.0830 - accuracy: 0.9766\n",
            "Epoch 36/150\n",
            "6/6 [==============================] - 0s 6ms/step - loss: 0.0809 - accuracy: 0.9766\n",
            "Epoch 37/150\n",
            "6/6 [==============================] - 0s 5ms/step - loss: 0.0790 - accuracy: 0.9785\n",
            "Epoch 38/150\n",
            "6/6 [==============================] - 0s 5ms/step - loss: 0.0773 - accuracy: 0.9805\n",
            "Epoch 39/150\n",
            "6/6 [==============================] - 0s 5ms/step - loss: 0.0754 - accuracy: 0.9805\n",
            "Epoch 40/150\n",
            "6/6 [==============================] - 0s 5ms/step - loss: 0.0739 - accuracy: 0.9805\n",
            "Epoch 41/150\n",
            "6/6 [==============================] - 0s 6ms/step - loss: 0.0724 - accuracy: 0.9805\n",
            "Epoch 42/150\n",
            "6/6 [==============================] - 0s 4ms/step - loss: 0.0713 - accuracy: 0.9824\n",
            "Epoch 43/150\n",
            "6/6 [==============================] - 0s 5ms/step - loss: 0.0700 - accuracy: 0.9824\n",
            "Epoch 44/150\n",
            "6/6 [==============================] - 0s 8ms/step - loss: 0.0691 - accuracy: 0.9824\n",
            "Epoch 45/150\n",
            "6/6 [==============================] - 0s 7ms/step - loss: 0.0679 - accuracy: 0.9824\n",
            "Epoch 46/150\n",
            "6/6 [==============================] - 0s 8ms/step - loss: 0.0671 - accuracy: 0.9824\n",
            "Epoch 47/150\n",
            "6/6 [==============================] - 0s 6ms/step - loss: 0.0662 - accuracy: 0.9824\n",
            "Epoch 48/150\n",
            "6/6 [==============================] - 0s 7ms/step - loss: 0.0656 - accuracy: 0.9824\n",
            "Epoch 49/150\n",
            "6/6 [==============================] - 0s 9ms/step - loss: 0.0649 - accuracy: 0.9824\n",
            "Epoch 50/150\n",
            "6/6 [==============================] - 0s 6ms/step - loss: 0.0643 - accuracy: 0.9824\n",
            "Epoch 51/150\n",
            "6/6 [==============================] - 0s 5ms/step - loss: 0.0637 - accuracy: 0.9844\n",
            "Epoch 52/150\n",
            "6/6 [==============================] - 0s 5ms/step - loss: 0.0632 - accuracy: 0.9844\n",
            "Epoch 53/150\n",
            "6/6 [==============================] - 0s 4ms/step - loss: 0.0627 - accuracy: 0.9844\n",
            "Epoch 54/150\n",
            "6/6 [==============================] - 0s 7ms/step - loss: 0.0622 - accuracy: 0.9844\n",
            "Epoch 55/150\n",
            "6/6 [==============================] - 0s 6ms/step - loss: 0.0617 - accuracy: 0.9844\n",
            "Epoch 56/150\n",
            "6/6 [==============================] - 0s 4ms/step - loss: 0.0612 - accuracy: 0.9844\n",
            "Epoch 57/150\n",
            "6/6 [==============================] - 0s 4ms/step - loss: 0.0607 - accuracy: 0.9844\n",
            "Epoch 58/150\n",
            "6/6 [==============================] - 0s 4ms/step - loss: 0.0603 - accuracy: 0.9844\n",
            "Epoch 59/150\n",
            "6/6 [==============================] - 0s 5ms/step - loss: 0.0599 - accuracy: 0.9844\n",
            "Epoch 60/150\n",
            "6/6 [==============================] - 0s 7ms/step - loss: 0.0594 - accuracy: 0.9844\n",
            "Epoch 61/150\n",
            "6/6 [==============================] - 0s 6ms/step - loss: 0.0590 - accuracy: 0.9844\n",
            "Epoch 62/150\n",
            "6/6 [==============================] - 0s 5ms/step - loss: 0.0586 - accuracy: 0.9844\n",
            "Epoch 63/150\n",
            "6/6 [==============================] - 0s 6ms/step - loss: 0.0582 - accuracy: 0.9844\n",
            "Epoch 64/150\n",
            "6/6 [==============================] - 0s 6ms/step - loss: 0.0579 - accuracy: 0.9844\n",
            "Epoch 65/150\n",
            "6/6 [==============================] - 0s 4ms/step - loss: 0.0575 - accuracy: 0.9844\n",
            "Epoch 66/150\n",
            "6/6 [==============================] - 0s 5ms/step - loss: 0.0572 - accuracy: 0.9844\n",
            "Epoch 67/150\n",
            "6/6 [==============================] - 0s 5ms/step - loss: 0.0568 - accuracy: 0.9844\n",
            "Epoch 68/150\n",
            "6/6 [==============================] - 0s 6ms/step - loss: 0.0564 - accuracy: 0.9844\n",
            "Epoch 69/150\n",
            "6/6 [==============================] - 0s 9ms/step - loss: 0.0560 - accuracy: 0.9844\n",
            "Epoch 70/150\n",
            "6/6 [==============================] - 0s 7ms/step - loss: 0.0556 - accuracy: 0.9844\n",
            "Epoch 71/150\n",
            "6/6 [==============================] - 0s 5ms/step - loss: 0.0553 - accuracy: 0.9844\n",
            "Epoch 72/150\n",
            "6/6 [==============================] - 0s 5ms/step - loss: 0.0551 - accuracy: 0.9844\n",
            "Epoch 73/150\n",
            "6/6 [==============================] - 0s 5ms/step - loss: 0.0547 - accuracy: 0.9844\n",
            "Epoch 74/150\n",
            "6/6 [==============================] - 0s 6ms/step - loss: 0.0544 - accuracy: 0.9844\n",
            "Epoch 75/150\n",
            "6/6 [==============================] - 0s 5ms/step - loss: 0.0540 - accuracy: 0.9844\n",
            "Epoch 76/150\n",
            "6/6 [==============================] - 0s 13ms/step - loss: 0.0538 - accuracy: 0.9844\n",
            "Epoch 77/150\n",
            "6/6 [==============================] - 0s 6ms/step - loss: 0.0535 - accuracy: 0.9844\n",
            "Epoch 78/150\n",
            "6/6 [==============================] - 0s 12ms/step - loss: 0.0532 - accuracy: 0.9844\n",
            "Epoch 79/150\n",
            "6/6 [==============================] - 0s 7ms/step - loss: 0.0529 - accuracy: 0.9844\n",
            "Epoch 80/150\n",
            "6/6 [==============================] - 0s 9ms/step - loss: 0.0526 - accuracy: 0.9844\n",
            "Epoch 81/150\n",
            "6/6 [==============================] - 0s 6ms/step - loss: 0.0523 - accuracy: 0.9844\n",
            "Epoch 82/150\n",
            "6/6 [==============================] - 0s 5ms/step - loss: 0.0520 - accuracy: 0.9844\n",
            "Epoch 83/150\n",
            "6/6 [==============================] - 0s 5ms/step - loss: 0.0516 - accuracy: 0.9844\n",
            "Epoch 84/150\n",
            "6/6 [==============================] - 0s 5ms/step - loss: 0.0513 - accuracy: 0.9844\n",
            "Epoch 85/150\n",
            "6/6 [==============================] - 0s 6ms/step - loss: 0.0510 - accuracy: 0.9863\n",
            "Epoch 86/150\n",
            "6/6 [==============================] - 0s 5ms/step - loss: 0.0509 - accuracy: 0.9863\n",
            "Epoch 87/150\n",
            "6/6 [==============================] - 0s 8ms/step - loss: 0.0507 - accuracy: 0.9863\n",
            "Epoch 88/150\n",
            "6/6 [==============================] - 0s 9ms/step - loss: 0.0505 - accuracy: 0.9863\n",
            "Epoch 89/150\n",
            "6/6 [==============================] - 0s 4ms/step - loss: 0.0503 - accuracy: 0.9863\n",
            "Epoch 90/150\n",
            "6/6 [==============================] - 0s 5ms/step - loss: 0.0501 - accuracy: 0.9863\n",
            "Epoch 91/150\n",
            "6/6 [==============================] - 0s 8ms/step - loss: 0.0495 - accuracy: 0.9863\n",
            "Epoch 92/150\n",
            "6/6 [==============================] - 0s 6ms/step - loss: 0.0490 - accuracy: 0.9863\n",
            "Epoch 93/150\n",
            "6/6 [==============================] - 0s 5ms/step - loss: 0.0487 - accuracy: 0.9863\n",
            "Epoch 94/150\n",
            "6/6 [==============================] - 0s 5ms/step - loss: 0.0485 - accuracy: 0.9863\n",
            "Epoch 95/150\n",
            "6/6 [==============================] - 0s 5ms/step - loss: 0.0482 - accuracy: 0.9863\n",
            "Epoch 96/150\n",
            "6/6 [==============================] - 0s 5ms/step - loss: 0.0480 - accuracy: 0.9863\n",
            "Epoch 97/150\n",
            "6/6 [==============================] - 0s 7ms/step - loss: 0.0478 - accuracy: 0.9863\n",
            "Epoch 98/150\n",
            "6/6 [==============================] - 0s 7ms/step - loss: 0.0475 - accuracy: 0.9863\n",
            "Epoch 99/150\n",
            "6/6 [==============================] - 0s 6ms/step - loss: 0.0473 - accuracy: 0.9883\n",
            "Epoch 100/150\n",
            "6/6 [==============================] - 0s 8ms/step - loss: 0.0471 - accuracy: 0.9883\n",
            "Epoch 101/150\n",
            "6/6 [==============================] - 0s 7ms/step - loss: 0.0468 - accuracy: 0.9883\n",
            "Epoch 102/150\n",
            "6/6 [==============================] - 0s 8ms/step - loss: 0.0466 - accuracy: 0.9883\n",
            "Epoch 103/150\n",
            "6/6 [==============================] - 0s 5ms/step - loss: 0.0464 - accuracy: 0.9883\n",
            "Epoch 104/150\n",
            "6/6 [==============================] - 0s 7ms/step - loss: 0.0461 - accuracy: 0.9883\n",
            "Epoch 105/150\n",
            "6/6 [==============================] - 0s 4ms/step - loss: 0.0459 - accuracy: 0.9883\n",
            "Epoch 106/150\n",
            "6/6 [==============================] - 0s 7ms/step - loss: 0.0456 - accuracy: 0.9883\n",
            "Epoch 107/150\n",
            "6/6 [==============================] - 0s 5ms/step - loss: 0.0453 - accuracy: 0.9883\n",
            "Epoch 108/150\n",
            "6/6 [==============================] - 0s 5ms/step - loss: 0.0455 - accuracy: 0.9902\n",
            "Epoch 109/150\n",
            "6/6 [==============================] - 0s 5ms/step - loss: 0.0455 - accuracy: 0.9883\n",
            "Epoch 110/150\n",
            "6/6 [==============================] - 0s 5ms/step - loss: 0.0450 - accuracy: 0.9902\n",
            "Epoch 111/150\n",
            "6/6 [==============================] - 0s 9ms/step - loss: 0.0446 - accuracy: 0.9902\n",
            "Epoch 112/150\n",
            "6/6 [==============================] - 0s 5ms/step - loss: 0.0442 - accuracy: 0.9922\n",
            "Epoch 113/150\n",
            "6/6 [==============================] - 0s 8ms/step - loss: 0.0440 - accuracy: 0.9922\n",
            "Epoch 114/150\n",
            "6/6 [==============================] - 0s 6ms/step - loss: 0.0438 - accuracy: 0.9922\n",
            "Epoch 115/150\n",
            "6/6 [==============================] - 0s 8ms/step - loss: 0.0436 - accuracy: 0.9922\n",
            "Epoch 116/150\n",
            "6/6 [==============================] - 0s 7ms/step - loss: 0.0434 - accuracy: 0.9922\n",
            "Epoch 117/150\n",
            "6/6 [==============================] - 0s 7ms/step - loss: 0.0432 - accuracy: 0.9922\n",
            "Epoch 118/150\n",
            "6/6 [==============================] - 0s 8ms/step - loss: 0.0430 - accuracy: 0.9922\n",
            "Epoch 119/150\n",
            "6/6 [==============================] - 0s 11ms/step - loss: 0.0427 - accuracy: 0.9922\n",
            "Epoch 120/150\n",
            "6/6 [==============================] - 0s 9ms/step - loss: 0.0424 - accuracy: 0.9922\n",
            "Epoch 121/150\n",
            "6/6 [==============================] - 0s 9ms/step - loss: 0.0422 - accuracy: 0.9922\n",
            "Epoch 122/150\n",
            "6/6 [==============================] - 0s 8ms/step - loss: 0.0420 - accuracy: 0.9922\n",
            "Epoch 123/150\n",
            "6/6 [==============================] - 0s 6ms/step - loss: 0.0419 - accuracy: 0.9922\n",
            "Epoch 124/150\n",
            "6/6 [==============================] - 0s 5ms/step - loss: 0.0417 - accuracy: 0.9922\n",
            "Epoch 125/150\n",
            "6/6 [==============================] - 0s 6ms/step - loss: 0.0415 - accuracy: 0.9922\n",
            "Epoch 126/150\n",
            "6/6 [==============================] - 0s 7ms/step - loss: 0.0413 - accuracy: 0.9922\n",
            "Epoch 127/150\n",
            "6/6 [==============================] - 0s 6ms/step - loss: 0.0411 - accuracy: 0.9922\n",
            "Epoch 128/150\n",
            "6/6 [==============================] - 0s 6ms/step - loss: 0.0409 - accuracy: 0.9922\n",
            "Epoch 129/150\n",
            "6/6 [==============================] - 0s 6ms/step - loss: 0.0408 - accuracy: 0.9922\n",
            "Epoch 130/150\n",
            "6/6 [==============================] - 0s 7ms/step - loss: 0.0407 - accuracy: 0.9922\n",
            "Epoch 131/150\n",
            "6/6 [==============================] - 0s 5ms/step - loss: 0.0404 - accuracy: 0.9922\n",
            "Epoch 132/150\n",
            "6/6 [==============================] - 0s 5ms/step - loss: 0.0402 - accuracy: 0.9922\n",
            "Epoch 133/150\n",
            "6/6 [==============================] - 0s 5ms/step - loss: 0.0401 - accuracy: 0.9922\n",
            "Epoch 134/150\n",
            "6/6 [==============================] - 0s 4ms/step - loss: 0.0400 - accuracy: 0.9922\n",
            "Epoch 135/150\n",
            "6/6 [==============================] - 0s 12ms/step - loss: 0.0397 - accuracy: 0.9922\n",
            "Epoch 136/150\n",
            "6/6 [==============================] - 0s 12ms/step - loss: 0.0397 - accuracy: 0.9922\n",
            "Epoch 137/150\n",
            "6/6 [==============================] - 0s 6ms/step - loss: 0.0393 - accuracy: 0.9922\n",
            "Epoch 138/150\n",
            "6/6 [==============================] - 0s 8ms/step - loss: 0.0391 - accuracy: 0.9922\n",
            "Epoch 139/150\n",
            "6/6 [==============================] - 0s 7ms/step - loss: 0.0389 - accuracy: 0.9922\n",
            "Epoch 140/150\n",
            "6/6 [==============================] - 0s 9ms/step - loss: 0.0387 - accuracy: 0.9922\n",
            "Epoch 141/150\n",
            "6/6 [==============================] - 0s 8ms/step - loss: 0.0385 - accuracy: 0.9922\n",
            "Epoch 142/150\n",
            "6/6 [==============================] - 0s 6ms/step - loss: 0.0383 - accuracy: 0.9922\n",
            "Epoch 143/150\n",
            "6/6 [==============================] - 0s 4ms/step - loss: 0.0382 - accuracy: 0.9922\n",
            "Epoch 144/150\n",
            "6/6 [==============================] - 0s 5ms/step - loss: 0.0380 - accuracy: 0.9922\n",
            "Epoch 145/150\n",
            "6/6 [==============================] - 0s 7ms/step - loss: 0.0379 - accuracy: 0.9922\n",
            "Epoch 146/150\n",
            "6/6 [==============================] - 0s 8ms/step - loss: 0.0377 - accuracy: 0.9922\n",
            "Epoch 147/150\n",
            "6/6 [==============================] - 0s 7ms/step - loss: 0.0376 - accuracy: 0.9922\n",
            "Epoch 148/150\n",
            "6/6 [==============================] - 0s 8ms/step - loss: 0.0374 - accuracy: 0.9922\n",
            "Epoch 149/150\n",
            "6/6 [==============================] - 0s 5ms/step - loss: 0.0373 - accuracy: 0.9922\n",
            "Epoch 150/150\n",
            "6/6 [==============================] - 0s 6ms/step - loss: 0.0373 - accuracy: 0.9922\n"
          ]
        },
        {
          "output_type": "execute_result",
          "data": {
            "text/plain": [
              "<keras.callbacks.History at 0x7ff929c8bad0>"
            ]
          },
          "metadata": {},
          "execution_count": 108
        }
      ]
    },
    {
      "cell_type": "code",
      "metadata": {
        "id": "zqwAnlLxqmfl",
        "outputId": "1cefbcb8-e944-4f31-e00c-cb38b538a109",
        "colab": {
          "base_uri": "https://localhost:8080/"
        }
      },
      "source": [
        "X_test\n"
      ],
      "execution_count": 109,
      "outputs": [
        {
          "output_type": "execute_result",
          "data": {
            "text/plain": [
              "array([[-0.20813312,  0.29431013, -0.13944326, ...,  1.35620942,\n",
              "         1.08282676,  1.50534354],\n",
              "       [-0.26189423,  1.39743106, -0.3255555 , ..., -0.83852283,\n",
              "        -0.73469319, -0.8855347 ],\n",
              "       [-0.0327021 , -0.83912914, -0.10049907, ..., -0.50397936,\n",
              "        -1.22531207, -0.92888396],\n",
              "       ...,\n",
              "       [-0.47410917,  0.14738282, -0.47600306, ..., -0.59340278,\n",
              "        -0.35079984, -0.34311323],\n",
              "       [-0.75423289, -0.7528385 , -0.77976775, ..., -0.75636222,\n",
              "        -0.08637538,  0.21209071],\n",
              "       [-0.79667588,  1.82421992, -0.83142005, ..., -1.43195543,\n",
              "        -0.08956122, -0.71936255]])"
            ]
          },
          "metadata": {},
          "execution_count": 109
        }
      ]
    },
    {
      "cell_type": "code",
      "metadata": {
        "id": "mbZfCbJG6yua"
      },
      "source": [
        "# Predicting the Test set results\n",
        "y_pred = classifier.predict(X_test)\n",
        "y_pred = (y_pred > 0.5)"
      ],
      "execution_count": 110,
      "outputs": []
    },
    {
      "cell_type": "code",
      "metadata": {
        "id": "Rm5zSOlp7BDP"
      },
      "source": [
        "\n",
        "# Making the Confusion Matrix\n",
        "from sklearn.metrics import confusion_matrix\n",
        "cm = confusion_matrix(y_test, y_pred)"
      ],
      "execution_count": 111,
      "outputs": []
    },
    {
      "cell_type": "code",
      "metadata": {
        "id": "IcNQu9q17NT_",
        "outputId": "660a4e85-8556-49c4-92a5-d1d2c6b16475",
        "colab": {
          "base_uri": "https://localhost:8080/",
          "height": 265
        }
      },
      "source": [
        "sns.heatmap(cm,annot=True)\n",
        "plt.savefig('h.png')\n"
      ],
      "execution_count": 112,
      "outputs": [
        {
          "output_type": "display_data",
          "data": {
            "text/plain": [
              "<Figure size 432x288 with 2 Axes>"
            ],
            "image/png": "[encoded data removed]"
          },
          "metadata": {
            "needs_background": "light"
          }
        }
      ]
    },
    {
      "cell_type": "code",
      "metadata": {
        "id": "_AF3xeeD7N8P",
        "outputId": "5c1b7674-e7fc-41af-aa4c-ef96efb54f43",
        "colab": {
          "base_uri": "https://localhost:8080/"
        }
      },
      "source": [
        "#First Accuracy after training\n",
        "(65+44)/114"
      ],
      "execution_count": 98,
      "outputs": [
        {
          "output_type": "execute_result",
          "data": {
            "text/plain": [
              "0.956140350877193"
            ]
          },
          "metadata": {},
          "execution_count": 98
        }
      ]
    },
    {
      "cell_type": "code",
      "metadata": {
        "id": "ms7zBmimWK1a",
        "outputId": "9d08c06c-9010-43b8-8cd6-a24f50d21353",
        "colab": {
          "base_uri": "https://localhost:8080/"
        }
      },
      "source": [
        "(64+44)/114"
      ],
      "execution_count": 99,
      "outputs": [
        {
          "output_type": "execute_result",
          "data": {
            "text/plain": [
              "0.9473684210526315"
            ]
          },
          "metadata": {},
          "execution_count": 99
        }
      ]
    },
    {
      "cell_type": "code",
      "metadata": {
        "id": "Uitf1DEJWLKt"
      },
      "source": [
        ""
      ],
      "execution_count": null,
      "outputs": []
    },
    {
      "cell_type": "code",
      "metadata": {
        "id": "yTGnjepyWLZE"
      },
      "source": [
        ""
      ],
      "execution_count": null,
      "outputs": []
    },
    {
      "cell_type": "code",
      "metadata": {
        "id": "d6AbvNv0WLmN"
      },
      "source": [
        ""
      ],
      "execution_count": null,
      "outputs": []
    },
    {
      "cell_type": "code",
      "metadata": {
        "id": "Rp6XC7swWLyU"
      },
      "source": [
        ""
      ],
      "execution_count": null,
      "outputs": []
    },
    {
      "cell_type": "code",
      "metadata": {
        "id": "tuJYCP9YWL_V"
      },
      "source": [
        ""
      ],
      "execution_count": null,
      "outputs": []
    },
    {
      "cell_type": "code",
      "metadata": {
        "id": "fqqMqjWg4UD_",
        "colab": {
          "base_uri": "https://localhost:8080/"
        },
        "outputId": "723e7433-1ac1-4948-fbb9-f368b5c8158b"
      },
      "source": [
        "from keras.wrappers.scikit_learn import KerasClassifier\n",
        "from sklearn.model_selection import cross_val_score\n",
        "from keras.models import Sequential\n",
        "from keras.layers import Dense\n",
        "def built_classifier():\n",
        "  classifier = Sequential()\n",
        "  classifier.add(Dense(output_dim=16, init='uniform', activation='relu',input_dim=30))\n",
        "  classifier.add(Dense(output_dim=16, init='uniform', activation='relu'))\n",
        "  classifier.add(Dense(output_dim=1, init='uniform', activation='sigmoid'))\n",
        "  classifier.compile(optimizer=\"Adam\", loss='binary_crossentropy', metrics=['accuracy'])\n",
        "  return classifier\n",
        "\n",
        "classifier = KerasClassifier(build_fn = built_classifier, batch_size = 100, epochs=100)\n",
        "accuracies = cross_val_score(estimator = classifier, X = X_train, y=y_train, cv=10, n_jobs =-1)\n",
        "\n"
      ],
      "execution_count": 100,
      "outputs": [
        {
          "output_type": "stream",
          "name": "stderr",
          "text": [
            "/usr/local/lib/python3.7/dist-packages/ipykernel_launcher.py:13: DeprecationWarning: KerasClassifier is deprecated, use Sci-Keras (https://github.com/adriangb/scikeras) instead. See https://www.adriangb.com/scikeras/stable/migration.html for help migrating.\n",
            "  del sys.path[0]\n",
            "/usr/local/lib/python3.7/dist-packages/sklearn/model_selection/_validation.py:372: FitFailedWarning: \n",
            "10 fits failed out of a total of 10.\n",
            "The score on these train-test partitions for these parameters will be set to nan.\n",
            "If these failures are not expected, you can try to debug them by setting error_score='raise'.\n",
            "\n",
            "Below are more details about the failures:\n",
            "--------------------------------------------------------------------------------\n",
            "10 fits failed with the following error:\n",
            "Traceback (most recent call last):\n",
            "  File \"/usr/local/lib/python3.7/dist-packages/sklearn/model_selection/_validation.py\", line 680, in _fit_and_score\n",
            "    estimator.fit(X_train, y_train, **fit_params)\n",
            "  File \"/usr/local/lib/python3.7/dist-packages/keras/wrappers/scikit_learn.py\", line 236, in fit\n",
            "    return super(KerasClassifier, self).fit(x, y, **kwargs)\n",
            "  File \"/usr/local/lib/python3.7/dist-packages/keras/wrappers/scikit_learn.py\", line 155, in fit\n",
            "    self.model = self.build_fn(**self.filter_sk_params(self.build_fn))\n",
            "  File \"<ipython-input-100-f16bd4035246>\", line 7, in built_classifier\n",
            "TypeError: __init__() missing 1 required positional argument: 'units'\n",
            "\n",
            "  warnings.warn(some_fits_failed_message, FitFailedWarning)\n"
          ]
        }
      ]
    },
    {
      "cell_type": "code",
      "metadata": {
        "id": "FeDk0lkF4aF0"
      },
      "source": [
        "accuracies"
      ],
      "execution_count": null,
      "outputs": []
    },
    {
      "cell_type": "code",
      "metadata": {
        "id": "zWaPQUy1KTLf"
      },
      "source": [
        "accuracies.mean()"
      ],
      "execution_count": null,
      "outputs": []
    },
    {
      "cell_type": "code",
      "metadata": {
        "id": "HkHeQyvzKjOX"
      },
      "source": [
        "accuracies.std()"
      ],
      "execution_count": null,
      "outputs": []
    },
    {
      "cell_type": "code",
      "metadata": {
        "id": "T90K7WfBKogC"
      },
      "source": [
        "import keras\n",
        "from keras.wrappers.scikit_learn import KerasClassifier\n",
        "from sklearn.model_selection import GridSearchCV\n",
        "from keras.models import Sequential\n",
        "from keras.layers import Dense\n",
        "def built_classifier(optimizer = 'adam'):\n",
        "  classifier = Sequential()\n",
        "  classifier.add(Dense(output_dim=16, init='uniform', activation='relu',input_dim=30))\n",
        "  classifier.add(Dense(output_dim=16, init='uniform', activation='relu'))\n",
        "  classifier.add(Dense(output_dim=1, init='uniform', activation='sigmoid'))\n",
        "  classifier.compile(optimizer=optimizer, loss='binary_crossentropy', metrics=['accuracy'])\n",
        "  return classifier\n",
        "\n",
        "classifier = KerasClassifier(build_fn = built_classifier)\n",
        "parameters = {'batch_size': [10, 32],'epochs': [100, 500],'optimizer': ['adam', 'rmsprop']}\n",
        "grid_search = GridSearchCV(estimator = classifier, param_grid = parameters, scoring = 'accuracy',\n",
        "                           cv = 10)\n",
        "\n",
        "grid_search = grid_search.fit(X_train, y_train)\n",
        "best_parameters = grid_search.best_params_\n",
        "best_accuracy = grid_search.best_score_"
      ],
      "execution_count": null,
      "outputs": []
    },
    {
      "cell_type": "code",
      "metadata": {
        "id": "rrAdjhIyb_hp"
      },
      "source": [
        ""
      ],
      "execution_count": null,
      "outputs": []
    },
    {
      "cell_type": "code",
      "metadata": {
        "id": "6xbpsj9mY0Xo"
      },
      "source": [
        ""
      ],
      "execution_count": null,
      "outputs": []
    }
  ]
}
